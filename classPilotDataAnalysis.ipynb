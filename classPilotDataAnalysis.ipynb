{
 "cells": [
  {
   "cell_type": "code",
   "execution_count": 1,
   "metadata": {},
   "outputs": [
    {
     "name": "stderr",
     "output_type": "stream",
     "text": [
      "C:\\Users\\DaBoss\\Anaconda3\\lib\\site-packages\\statsmodels\\compat\\pandas.py:56: FutureWarning: The pandas.core.datetools module is deprecated and will be removed in a future version. Please use the pandas.tseries module instead.\n",
      "  from pandas.core import datetools\n"
     ]
    }
   ],
   "source": [
    "%matplotlib inline\n",
    "import matplotlib.pyplot as plt\n",
    "import glob\n",
    "import os\n",
    "import pandas as pd\n",
    "import numpy as np\n",
    "import csv\n",
    "import re\n",
    "from mpl_toolkits.mplot3d import Axes3D\n",
    "from ipywidgets import interact, interactive, fixed, interact_manual\n",
    "import ipywidgets as widgets\n",
    "import statsmodels.api as sm\n",
    "import os"
   ]
  },
  {
   "cell_type": "markdown",
   "metadata": {},
   "source": [
    "### Set up the Data"
   ]
  },
  {
   "cell_type": "code",
   "execution_count": 4,
   "metadata": {},
   "outputs": [],
   "source": [
    "data_folder = \"./testerCopy\""
   ]
  },
  {
   "cell_type": "markdown",
   "metadata": {},
   "source": [
    "Change all files to csv"
   ]
  },
  {
   "cell_type": "code",
   "execution_count": 12,
   "metadata": {},
   "outputs": [],
   "source": [
    "# TODO: Make the '*' argument only capture files with no extension, i.e no '.'\n",
    "import re\n",
    "\n",
    "regex = r\"([a-zA-Z0-9])\"\n",
    "\n",
    "for filename in glob.iglob(os.path.join(data_folder, 'r')):\n",
    "    #os.rename(filename, filename + '.csv')\n",
    "    print(filename)\n",
    "\n",
    "#for filename in glob.iglob(os.path.join(data_folder, '*')):\n",
    "#    os.rename(filename, filename + '.csv')\n",
    "#    print(filename)"
   ]
  },
  {
   "cell_type": "markdown",
   "metadata": {},
   "source": [
    "Create a data frame from all of the numerical data in the csv by spliting by exclamation points and only selects rows from csv that are more than 100 character because all of the levels data are extremely long.\n"
   ]
  },
  {
   "cell_type": "code",
   "execution_count": 33,
   "metadata": {},
   "outputs": [],
   "source": [
    "lesstemplist = []\n",
    "for filename in glob.iglob(data_folder + \"/*.csv\"):\n",
    "#     print(filename)\n",
    "    temp = open(filename, 'r')\n",
    "    temp2 = temp.read().splitlines()\n",
    "    for i in range(len(temp2)):\n",
    "        if len(temp2[i])>1000:\n",
    "            vabs = temp2[i].split('!')\n",
    "            lesstemplist.append(vabs)"
   ]
  },
  {
   "cell_type": "markdown",
   "metadata": {},
   "source": [
    "### Create Initial the data frame"
   ]
  },
  {
   "cell_type": "code",
   "execution_count": 38,
   "metadata": {
    "collapsed": true
   },
   "outputs": [],
   "source": [
    "#TODO: Consider a rename to mouse_data.  If we move to a separate and merge model.\n",
    "df = pd.DataFrame(lesstemplist,columns=['accratio', 'Xcord', 'Ycord','Timemousecords','timestimsarrive','difficultylevel','stimsclicked','stimsshown'])"
   ]
  },
  {
   "cell_type": "code",
   "execution_count": 41,
   "metadata": {},
   "outputs": [
    {
     "data": {
      "text/html": [
       "<div>\n",
       "<table border=\"1\" class=\"dataframe\">\n",
       "  <thead>\n",
       "    <tr style=\"text-align: right;\">\n",
       "      <th></th>\n",
       "      <th>accratio</th>\n",
       "      <th>Xcord</th>\n",
       "      <th>Ycord</th>\n",
       "      <th>Timemousecords</th>\n",
       "      <th>timestimsarrive</th>\n",
       "      <th>difficultylevel</th>\n",
       "      <th>stimsclicked</th>\n",
       "      <th>stimsshown</th>\n",
       "    </tr>\n",
       "  </thead>\n",
       "  <tbody>\n",
       "    <tr>\n",
       "      <th>0</th>\n",
       "      <td>\"0.25316455696202533</td>\n",
       "      <td>386,401,420,445,501,514,528,535,538,540,540,54...</td>\n",
       "      <td>615,586,569,546,478,465,452,440,432,428,423,41...</td>\n",
       "      <td>1520885083783,1520885083796,1520885083811,1520...</td>\n",
       "      <td>1520885082141,1520885082798,1520885083456,1520...</td>\n",
       "      <td>3</td>\n",
       "      <td>20</td>\n",
       "      <td>79\"</td>\n",
       "    </tr>\n",
       "    <tr>\n",
       "      <th>1</th>\n",
       "      <td>\"0.2235294117647059</td>\n",
       "      <td>386,401,420,445,501,514,528,535,538,540,540,54...</td>\n",
       "      <td>615,586,569,546,478,465,452,440,432,428,423,41...</td>\n",
       "      <td>1520885083783,1520885083796,1520885083811,1520...</td>\n",
       "      <td>1520885082141,1520885082798,1520885083456,1520...</td>\n",
       "      <td>4</td>\n",
       "      <td>19</td>\n",
       "      <td>85\"</td>\n",
       "    </tr>\n",
       "    <tr>\n",
       "      <th>2</th>\n",
       "      <td>\"0.14772727272727273</td>\n",
       "      <td>386,401,420,445,501,514,528,535,538,540,540,54...</td>\n",
       "      <td>615,586,569,546,478,465,452,440,432,428,423,41...</td>\n",
       "      <td>1520885083783,1520885083796,1520885083811,1520...</td>\n",
       "      <td>1520885082141,1520885082798,1520885083456,1520...</td>\n",
       "      <td>5</td>\n",
       "      <td>13</td>\n",
       "      <td>88\"</td>\n",
       "    </tr>\n",
       "    <tr>\n",
       "      <th>3</th>\n",
       "      <td>\"0.14942528735632185</td>\n",
       "      <td>386,401,420,445,501,514,528,535,538,540,540,54...</td>\n",
       "      <td>615,586,569,546,478,465,452,440,432,428,423,41...</td>\n",
       "      <td>1520885083783,1520885083796,1520885083811,1520...</td>\n",
       "      <td>1520885082141,1520885082798,1520885083456,1520...</td>\n",
       "      <td>6</td>\n",
       "      <td>13</td>\n",
       "      <td>87\"</td>\n",
       "    </tr>\n",
       "    <tr>\n",
       "      <th>4</th>\n",
       "      <td>\"0.1348314606741573</td>\n",
       "      <td>386,401,420,445,501,514,528,535,538,540,540,54...</td>\n",
       "      <td>615,586,569,546,478,465,452,440,432,428,423,41...</td>\n",
       "      <td>1520885083783,1520885083796,1520885083811,1520...</td>\n",
       "      <td>1520885082141,1520885082798,1520885083456,1520...</td>\n",
       "      <td>7</td>\n",
       "      <td>12</td>\n",
       "      <td>89\"</td>\n",
       "    </tr>\n",
       "  </tbody>\n",
       "</table>\n",
       "</div>"
      ],
      "text/plain": [
       "               accratio                                              Xcord  \\\n",
       "0  \"0.25316455696202533  386,401,420,445,501,514,528,535,538,540,540,54...   \n",
       "1   \"0.2235294117647059  386,401,420,445,501,514,528,535,538,540,540,54...   \n",
       "2  \"0.14772727272727273  386,401,420,445,501,514,528,535,538,540,540,54...   \n",
       "3  \"0.14942528735632185  386,401,420,445,501,514,528,535,538,540,540,54...   \n",
       "4   \"0.1348314606741573  386,401,420,445,501,514,528,535,538,540,540,54...   \n",
       "\n",
       "                                               Ycord  \\\n",
       "0  615,586,569,546,478,465,452,440,432,428,423,41...   \n",
       "1  615,586,569,546,478,465,452,440,432,428,423,41...   \n",
       "2  615,586,569,546,478,465,452,440,432,428,423,41...   \n",
       "3  615,586,569,546,478,465,452,440,432,428,423,41...   \n",
       "4  615,586,569,546,478,465,452,440,432,428,423,41...   \n",
       "\n",
       "                                      Timemousecords  \\\n",
       "0  1520885083783,1520885083796,1520885083811,1520...   \n",
       "1  1520885083783,1520885083796,1520885083811,1520...   \n",
       "2  1520885083783,1520885083796,1520885083811,1520...   \n",
       "3  1520885083783,1520885083796,1520885083811,1520...   \n",
       "4  1520885083783,1520885083796,1520885083811,1520...   \n",
       "\n",
       "                                     timestimsarrive difficultylevel  \\\n",
       "0  1520885082141,1520885082798,1520885083456,1520...               3   \n",
       "1  1520885082141,1520885082798,1520885083456,1520...               4   \n",
       "2  1520885082141,1520885082798,1520885083456,1520...               5   \n",
       "3  1520885082141,1520885082798,1520885083456,1520...               6   \n",
       "4  1520885082141,1520885082798,1520885083456,1520...               7   \n",
       "\n",
       "  stimsclicked stimsshown  \n",
       "0           20        79\"  \n",
       "1           19        85\"  \n",
       "2           13        88\"  \n",
       "3           13        87\"  \n",
       "4           12        89\"  "
      ]
     },
     "execution_count": 41,
     "metadata": {},
     "output_type": "execute_result"
    }
   ],
   "source": [
    "df.head()"
   ]
  },
  {
   "cell_type": "markdown",
   "metadata": {},
   "source": [
    "Add an id column to the dataframe and populate it.\n",
    "Find the id string; if there is none, fill the id field with \"anon\".\n",
    "TOOD: Update csv so that the id is always the last line of the code.  Then this should become just a few lines.\n",
    "\n",
    "Currently: Here we add in ids by creating a new dataframe for ids. \n",
    "sometimes id and the final questionairre answers get reversed in order so we perform a swap if the the last element is longer than the second to last element\n",
    "we also create the id anon for any rows csv that down have an id becuase the partivciapnt did not reach the end of the experiment."
   ]
  },
  {
   "cell_type": "code",
   "execution_count": 45,
   "metadata": {},
   "outputs": [],
   "source": [
    "ids = []\n",
    "for filename in glob.iglob(data_folder + \"/*.csv*\"):\n",
    "    temp = open(filename, 'r')\n",
    "    temp2 = temp.read().splitlines()\n",
    "    if len(temp2[-1]) > len(temp2[-2]):\n",
    "        #here were swaping if the final questionairre and id are in the wrong order\n",
    "        x = temp2[-1]\n",
    "        temp2[-1] = temp2[-2]\n",
    "        temp2[-2] = temp2[-1]\n",
    "        for i in range(len(temp2)):\n",
    "            if len(temp2[i])>1000:\n",
    "                if len(temp2[-1]) > 25:\n",
    "                    ids.append(\"anon\")\n",
    "                else:\n",
    "                    ids.append(temp2[-1])\n",
    "    else:\n",
    "        for i in range(len(temp2)):\n",
    "            if len(temp2[i])>1000:\n",
    "                if len(temp2[-1]) > 25:\n",
    "                    ids.append(\"anon\")\n",
    "                else:\n",
    "                    ids.append(temp2[-1])\n",
    "se = pd.Series(ids)\n",
    "df['IDs'] = se.values\n",
    "# TODO: Rename to ID and make it the first coulumn"
   ]
  },
  {
   "cell_type": "code",
   "execution_count": 46,
   "metadata": {},
   "outputs": [],
   "source": [
    "# df.head()"
   ]
  },
  {
   "cell_type": "markdown",
   "metadata": {},
   "source": [
    "### Add the survey data to a new frame\n",
    "Here we add in the questionairre data the same way as we have with everything else. the questionairre data comes in a bit messy so we also trim of some of the exra bits like the equals signs used as delimiters."
   ]
  },
  {
   "cell_type": "code",
   "execution_count": 49,
   "metadata": {
    "collapsed": true
   },
   "outputs": [],
   "source": [
    "# TODO: Rename to questionairre_data, and populate it based on \"undefined\" being at the start.  But TODO2: If there is a way to use a meaningful phrase rather than undefined, that would be good.\n",
    "# For line in lines, if line.startswith(\"undefined)....\n",
    "\n",
    "expQs = []\n",
    "for filename in glob.iglob(data_folder+\"/.csv*\"):\n",
    "    temp = open(filename, 'r')\n",
    "    temp2 = temp.read().splitlines()\n",
    "    #numlines += len(temp2)\n",
    "    templist = []\n",
    "    for i in range(len(temp2)):\n",
    "        if (len(temp2[i])<50) & (len(temp2[i])>15):\n",
    "            vabs = temp2[i].split(',')\n",
    "            newvabs = [x[-1] for x in vabs]\n",
    "            finalvabs = newvabs[:3]\n",
    "            expQs.append(finalvabs)\n",
    "            \n",
    "# TODO: No need for new files. Just create the question df and mutate it directly in here            \n",
    "df2= pd.DataFrame(expQs,columns=['Q1','Q2','Q3'])\n",
    "\n",
    "df3 = pd.concat([df, df2], axis=1)\n",
    "\n",
    "##blank out unfinished Questionairres\n",
    "\n",
    "df4 = df3\n",
    "mask = df4.Q3 == '='\n",
    "column_name1 = 'Q3'\n",
    "df4.loc[mask, ['Q1','Q2','Q3']] = 0"
   ]
  },
  {
   "cell_type": "code",
   "execution_count": 50,
   "metadata": {},
   "outputs": [
    {
     "data": {
      "text/html": [
       "<div>\n",
       "<table border=\"1\" class=\"dataframe\">\n",
       "  <thead>\n",
       "    <tr style=\"text-align: right;\">\n",
       "      <th></th>\n",
       "      <th>accratio</th>\n",
       "      <th>Xcord</th>\n",
       "      <th>Ycord</th>\n",
       "      <th>Timemousecords</th>\n",
       "      <th>timestimsarrive</th>\n",
       "      <th>difficultylevel</th>\n",
       "      <th>stimsclicked</th>\n",
       "      <th>stimsshown</th>\n",
       "      <th>IDs</th>\n",
       "      <th>Q1</th>\n",
       "      <th>Q2</th>\n",
       "      <th>Q3</th>\n",
       "    </tr>\n",
       "  </thead>\n",
       "  <tbody>\n",
       "    <tr>\n",
       "      <th>0</th>\n",
       "      <td>\"0.25316455696202533</td>\n",
       "      <td>386,401,420,445,501,514,528,535,538,540,540,54...</td>\n",
       "      <td>615,586,569,546,478,465,452,440,432,428,423,41...</td>\n",
       "      <td>1520885083783,1520885083796,1520885083811,1520...</td>\n",
       "      <td>1520885082141,1520885082798,1520885083456,1520...</td>\n",
       "      <td>3</td>\n",
       "      <td>20</td>\n",
       "      <td>79\"</td>\n",
       "      <td>\"C3X8gydKHOEj\"</td>\n",
       "      <td>NaN</td>\n",
       "      <td>NaN</td>\n",
       "      <td>NaN</td>\n",
       "    </tr>\n",
       "    <tr>\n",
       "      <th>1</th>\n",
       "      <td>\"0.2235294117647059</td>\n",
       "      <td>386,401,420,445,501,514,528,535,538,540,540,54...</td>\n",
       "      <td>615,586,569,546,478,465,452,440,432,428,423,41...</td>\n",
       "      <td>1520885083783,1520885083796,1520885083811,1520...</td>\n",
       "      <td>1520885082141,1520885082798,1520885083456,1520...</td>\n",
       "      <td>4</td>\n",
       "      <td>19</td>\n",
       "      <td>85\"</td>\n",
       "      <td>\"C3X8gydKHOEj\"</td>\n",
       "      <td>NaN</td>\n",
       "      <td>NaN</td>\n",
       "      <td>NaN</td>\n",
       "    </tr>\n",
       "    <tr>\n",
       "      <th>2</th>\n",
       "      <td>\"0.14772727272727273</td>\n",
       "      <td>386,401,420,445,501,514,528,535,538,540,540,54...</td>\n",
       "      <td>615,586,569,546,478,465,452,440,432,428,423,41...</td>\n",
       "      <td>1520885083783,1520885083796,1520885083811,1520...</td>\n",
       "      <td>1520885082141,1520885082798,1520885083456,1520...</td>\n",
       "      <td>5</td>\n",
       "      <td>13</td>\n",
       "      <td>88\"</td>\n",
       "      <td>\"C3X8gydKHOEj\"</td>\n",
       "      <td>NaN</td>\n",
       "      <td>NaN</td>\n",
       "      <td>NaN</td>\n",
       "    </tr>\n",
       "    <tr>\n",
       "      <th>3</th>\n",
       "      <td>\"0.14942528735632185</td>\n",
       "      <td>386,401,420,445,501,514,528,535,538,540,540,54...</td>\n",
       "      <td>615,586,569,546,478,465,452,440,432,428,423,41...</td>\n",
       "      <td>1520885083783,1520885083796,1520885083811,1520...</td>\n",
       "      <td>1520885082141,1520885082798,1520885083456,1520...</td>\n",
       "      <td>6</td>\n",
       "      <td>13</td>\n",
       "      <td>87\"</td>\n",
       "      <td>\"C3X8gydKHOEj\"</td>\n",
       "      <td>NaN</td>\n",
       "      <td>NaN</td>\n",
       "      <td>NaN</td>\n",
       "    </tr>\n",
       "    <tr>\n",
       "      <th>4</th>\n",
       "      <td>\"0.1348314606741573</td>\n",
       "      <td>386,401,420,445,501,514,528,535,538,540,540,54...</td>\n",
       "      <td>615,586,569,546,478,465,452,440,432,428,423,41...</td>\n",
       "      <td>1520885083783,1520885083796,1520885083811,1520...</td>\n",
       "      <td>1520885082141,1520885082798,1520885083456,1520...</td>\n",
       "      <td>7</td>\n",
       "      <td>12</td>\n",
       "      <td>89\"</td>\n",
       "      <td>\"C3X8gydKHOEj\"</td>\n",
       "      <td>NaN</td>\n",
       "      <td>NaN</td>\n",
       "      <td>NaN</td>\n",
       "    </tr>\n",
       "  </tbody>\n",
       "</table>\n",
       "</div>"
      ],
      "text/plain": [
       "               accratio                                              Xcord  \\\n",
       "0  \"0.25316455696202533  386,401,420,445,501,514,528,535,538,540,540,54...   \n",
       "1   \"0.2235294117647059  386,401,420,445,501,514,528,535,538,540,540,54...   \n",
       "2  \"0.14772727272727273  386,401,420,445,501,514,528,535,538,540,540,54...   \n",
       "3  \"0.14942528735632185  386,401,420,445,501,514,528,535,538,540,540,54...   \n",
       "4   \"0.1348314606741573  386,401,420,445,501,514,528,535,538,540,540,54...   \n",
       "\n",
       "                                               Ycord  \\\n",
       "0  615,586,569,546,478,465,452,440,432,428,423,41...   \n",
       "1  615,586,569,546,478,465,452,440,432,428,423,41...   \n",
       "2  615,586,569,546,478,465,452,440,432,428,423,41...   \n",
       "3  615,586,569,546,478,465,452,440,432,428,423,41...   \n",
       "4  615,586,569,546,478,465,452,440,432,428,423,41...   \n",
       "\n",
       "                                      Timemousecords  \\\n",
       "0  1520885083783,1520885083796,1520885083811,1520...   \n",
       "1  1520885083783,1520885083796,1520885083811,1520...   \n",
       "2  1520885083783,1520885083796,1520885083811,1520...   \n",
       "3  1520885083783,1520885083796,1520885083811,1520...   \n",
       "4  1520885083783,1520885083796,1520885083811,1520...   \n",
       "\n",
       "                                     timestimsarrive difficultylevel  \\\n",
       "0  1520885082141,1520885082798,1520885083456,1520...               3   \n",
       "1  1520885082141,1520885082798,1520885083456,1520...               4   \n",
       "2  1520885082141,1520885082798,1520885083456,1520...               5   \n",
       "3  1520885082141,1520885082798,1520885083456,1520...               6   \n",
       "4  1520885082141,1520885082798,1520885083456,1520...               7   \n",
       "\n",
       "  stimsclicked stimsshown             IDs   Q1   Q2   Q3  \n",
       "0           20        79\"  \"C3X8gydKHOEj\"  NaN  NaN  NaN  \n",
       "1           19        85\"  \"C3X8gydKHOEj\"  NaN  NaN  NaN  \n",
       "2           13        88\"  \"C3X8gydKHOEj\"  NaN  NaN  NaN  \n",
       "3           13        87\"  \"C3X8gydKHOEj\"  NaN  NaN  NaN  \n",
       "4           12        89\"  \"C3X8gydKHOEj\"  NaN  NaN  NaN  "
      ]
     },
     "execution_count": 50,
     "metadata": {},
     "output_type": "execute_result"
    }
   ],
   "source": [
    "df4.head()"
   ]
  },
  {
   "cell_type": "code",
   "execution_count": 51,
   "metadata": {},
   "outputs": [],
   "source": [
    "# Get rid of quotes around things\n",
    "#\n",
    "#df.applymap(lambda x: x.replace('\"', ''))\n",
    "for i, col in enumerate(df.columns):\n",
    "    df4.iloc[:, i] = df.iloc[:, i].str.replace('\"', '')"
   ]
  },
  {
   "cell_type": "code",
   "execution_count": 53,
   "metadata": {},
   "outputs": [],
   "source": [
    "# df4.head()"
   ]
  },
  {
   "cell_type": "markdown",
   "metadata": {
    "collapsed": true
   },
   "source": [
    "### Analyze Dataa"
   ]
  },
  {
   "cell_type": "markdown",
   "metadata": {},
   "source": [
    "#### Exploratory: Display the mouse-trajectory  for a single row\n",
    "TODO: Add color to dots that changes over time so you can see which paterns are from beginning and which are from end"
   ]
  },
  {
   "cell_type": "code",
   "execution_count": 56,
   "metadata": {
    "collapsed": true
   },
   "outputs": [],
   "source": [
    "# Explore a single path\n",
    "row_num = 10"
   ]
  },
  {
   "cell_type": "code",
   "execution_count": 57,
   "metadata": {},
   "outputs": [],
   "source": [
    "#currently prints xs and ys from row zero \n",
    "xs = [int(i)-100 for i in df4.at[row_num,'Xcord'].split(',')]  \n",
    "ys = [int(i) for i in df4.at[row_num,'Ycord'].split(',')]  "
   ]
  },
  {
   "cell_type": "code",
   "execution_count": 58,
   "metadata": {},
   "outputs": [
    {
     "data": {
      "text/plain": [
       "<matplotlib.collections.PathCollection at 0x11d9366d8>"
      ]
     },
     "execution_count": 58,
     "metadata": {},
     "output_type": "execute_result"
    },
    {
     "data": {
      "image/png": "[encoded data removed]",
      "text/plain": [
       "<matplotlib.figure.Figure at 0x11a91f898>"
      ]
     },
     "metadata": {},
     "output_type": "display_data"
    }
   ],
   "source": [
    "plt.figure(1,figsize=(8,8))\n",
    "#im = plt.imread(\"C:/Users/DaBoss/DocumentsGitHub/clickdamole/images/moles.png\")\n",
    "#implot = plt.imshow(im, alpha=.5)\n",
    "plt.plot(xs, ys, alpha=.5)\n",
    "plt.scatter(xs, ys, alpha=.4, s=3)"
   ]
  },
  {
   "cell_type": "markdown",
   "metadata": {},
   "source": [
    "#### Simple Regression"
   ]
  },
  {
   "cell_type": "code",
   "execution_count": 83,
   "metadata": {
    "scrolled": false
   },
   "outputs": [
    {
     "name": "stderr",
     "output_type": "stream",
     "text": [
      "/Users/jyoshimi/miniconda2/envs/python3/lib/python3.5/site-packages/ipykernel/__main__.py:3: FutureWarning: convert_objects is deprecated.  Use the data-type specific converters pd.to_datetime, pd.to_timedelta and pd.to_numeric.\n",
      "  app.launch_new_instance()\n"
     ]
    }
   ],
   "source": [
    "numeric_table = df4.copy()\n",
    "numeric_table = numeric_table.drop(['Xcord','Ycord', 'Timemousecords', 'timestimsarrive','IDs'],axis=1)\n",
    "numeric_table = numeric_table.convert_objects(convert_numeric=True)\n",
    "# TODO: Use pd.to_numeric above"
   ]
  },
  {
   "cell_type": "markdown",
   "metadata": {},
   "source": [
    "Set up model"
   ]
  },
  {
   "cell_type": "code",
   "execution_count": 85,
   "metadata": {},
   "outputs": [
    {
     "data": {
      "text/html": [
       "<table class=\"simpletable\">\n",
       "<caption>OLS Regression Results</caption>\n",
       "<tr>\n",
       "  <th>Dep. Variable:</th>            <td>y</td>        <th>  R-squared:         </th> <td>     nan</td>\n",
       "</tr>\n",
       "<tr>\n",
       "  <th>Model:</th>                   <td>OLS</td>       <th>  Adj. R-squared:    </th> <td>     nan</td>\n",
       "</tr>\n",
       "<tr>\n",
       "  <th>Method:</th>             <td>Least Squares</td>  <th>  F-statistic:       </th> <td>     nan</td>\n",
       "</tr>\n",
       "<tr>\n",
       "  <th>Date:</th>             <td>Tue, 03 Apr 2018</td> <th>  Prob (F-statistic):</th>  <td>   nan</td> \n",
       "</tr>\n",
       "<tr>\n",
       "  <th>Time:</th>                 <td>14:38:38</td>     <th>  Log-Likelihood:    </th> <td>     nan</td>\n",
       "</tr>\n",
       "<tr>\n",
       "  <th>No. Observations:</th>      <td>   164</td>      <th>  AIC:               </th> <td>     nan</td>\n",
       "</tr>\n",
       "<tr>\n",
       "  <th>Df Residuals:</th>          <td>   163</td>      <th>  BIC:               </th> <td>     nan</td>\n",
       "</tr>\n",
       "<tr>\n",
       "  <th>Df Model:</th>              <td>     1</td>      <th>                     </th>     <td> </td>   \n",
       "</tr>\n",
       "<tr>\n",
       "  <th>Covariance Type:</th>      <td>nonrobust</td>    <th>                     </th>     <td> </td>   \n",
       "</tr>\n",
       "</table>\n",
       "<table class=\"simpletable\">\n",
       "<tr>\n",
       "   <td></td>     <th>coef</th>     <th>std err</th>      <th>t</th>      <th>P>|t|</th>  <th>[0.025</th>    <th>0.975]</th>  \n",
       "</tr>\n",
       "<tr>\n",
       "  <th>x1</th> <td>       nan</td> <td>      nan</td> <td>      nan</td> <td>   nan</td> <td>      nan</td> <td>      nan</td>\n",
       "</tr>\n",
       "</table>\n",
       "<table class=\"simpletable\">\n",
       "<tr>\n",
       "  <th>Omnibus:</th>       <td>   nan</td> <th>  Durbin-Watson:     </th> <td>     nan</td>\n",
       "</tr>\n",
       "<tr>\n",
       "  <th>Prob(Omnibus):</th> <td>   nan</td> <th>  Jarque-Bera (JB):  </th> <td>     nan</td>\n",
       "</tr>\n",
       "<tr>\n",
       "  <th>Skew:</th>          <td>   nan</td> <th>  Prob(JB):          </th> <td>     nan</td>\n",
       "</tr>\n",
       "<tr>\n",
       "  <th>Kurtosis:</th>      <td>   nan</td> <th>  Cond. No.          </th> <td>    1.00</td>\n",
       "</tr>\n",
       "</table>"
      ],
      "text/plain": [
       "<class 'statsmodels.iolib.summary.Summary'>\n",
       "\"\"\"\n",
       "                            OLS Regression Results                            \n",
       "==============================================================================\n",
       "Dep. Variable:                      y   R-squared:                         nan\n",
       "Model:                            OLS   Adj. R-squared:                    nan\n",
       "Method:                 Least Squares   F-statistic:                       nan\n",
       "Date:                Tue, 03 Apr 2018   Prob (F-statistic):                nan\n",
       "Time:                        14:38:38   Log-Likelihood:                    nan\n",
       "No. Observations:                 164   AIC:                               nan\n",
       "Df Residuals:                     163   BIC:                               nan\n",
       "Df Model:                           1                                         \n",
       "Covariance Type:            nonrobust                                         \n",
       "==============================================================================\n",
       "                 coef    std err          t      P>|t|      [0.025      0.975]\n",
       "------------------------------------------------------------------------------\n",
       "x1                nan        nan        nan        nan         nan         nan\n",
       "==============================================================================\n",
       "Omnibus:                          nan   Durbin-Watson:                     nan\n",
       "Prob(Omnibus):                    nan   Jarque-Bera (JB):                  nan\n",
       "Skew:                             nan   Prob(JB):                          nan\n",
       "Kurtosis:                         nan   Cond. No.                         1.00\n",
       "==============================================================================\n",
       "\n",
       "Warnings:\n",
       "[1] Standard Errors assume that the covariance matrix of the errors is correctly specified.\n",
       "\"\"\""
      ]
     },
     "execution_count": 85,
     "metadata": {},
     "output_type": "execute_result"
    }
   ],
   "source": [
    "target = pd.DataFrame(numeric_table.Q2, columns=['Q2'])\n",
    "X=numeric_table['accratio']\n",
    "x=X.tolist()\n",
    "Y=target['Q2']\n",
    "y=Y.tolist()\n",
    "model = sm.OLS(y, x).fit()\n",
    "model.summary()"
   ]
  },
  {
   "cell_type": "code",
   "execution_count": 11,
   "metadata": {},
   "outputs": [
    {
     "data": {
      "image/png": "[encoded data removed]",
      "text/plain": [
       "<matplotlib.figure.Figure at 0x1a5dc896c88>"
      ]
     },
     "metadata": {},
     "output_type": "display_data"
    }
   ],
   "source": [
    "#for color but havent done this yet\n",
    "engagement = allnumdf['Q2'].tolist()\n",
    "difficulty = allnumdf['Q1'].tolist()\n",
    "accuracy = allnumdf['accratio'].tolist()\n",
    "threedee = plt.figure().gca(projection='3d')\n",
    "threedee.scatter(accuracy, difficulty, engagement)\n",
    "threedee.set_xlabel('accratio')\n",
    "threedee.set_zlabel('engage')\n",
    "threedee.set_ylabel('difficulty')\n",
    "threedee.view_init(azim=0)\n",
    "threedee.view_init(elev=1)\n",
    "\n",
    "plt.show()\n"
   ]
  },
  {
   "cell_type": "code",
   "execution_count": null,
   "metadata": {
    "collapsed": true
   },
   "outputs": [],
   "source": []
  },
  {
   "cell_type": "code",
   "execution_count": 12,
   "metadata": {},
   "outputs": [
    {
     "data": {
      "text/html": [
       "<table class=\"simpletable\">\n",
       "<caption>OLS Regression Results</caption>\n",
       "<tr>\n",
       "  <th>Dep. Variable:</th>           <td>Q2</td>        <th>  R-squared:         </th> <td>   0.378</td>\n",
       "</tr>\n",
       "<tr>\n",
       "  <th>Model:</th>                   <td>OLS</td>       <th>  Adj. R-squared:    </th> <td>   0.366</td>\n",
       "</tr>\n",
       "<tr>\n",
       "  <th>Method:</th>             <td>Least Squares</td>  <th>  F-statistic:       </th> <td>   32.43</td>\n",
       "</tr>\n",
       "<tr>\n",
       "  <th>Date:</th>             <td>Fri, 23 Mar 2018</td> <th>  Prob (F-statistic):</th> <td>1.98e-16</td>\n",
       "</tr>\n",
       "<tr>\n",
       "  <th>Time:</th>                 <td>01:46:40</td>     <th>  Log-Likelihood:    </th> <td> -286.66</td>\n",
       "</tr>\n",
       "<tr>\n",
       "  <th>No. Observations:</th>      <td>   164</td>      <th>  AIC:               </th> <td>   581.3</td>\n",
       "</tr>\n",
       "<tr>\n",
       "  <th>Df Residuals:</th>          <td>   160</td>      <th>  BIC:               </th> <td>   593.7</td>\n",
       "</tr>\n",
       "<tr>\n",
       "  <th>Df Model:</th>              <td>     3</td>      <th>                     </th>     <td> </td>   \n",
       "</tr>\n",
       "<tr>\n",
       "  <th>Covariance Type:</th>      <td>nonrobust</td>    <th>                     </th>     <td> </td>   \n",
       "</tr>\n",
       "</table>\n",
       "<table class=\"simpletable\">\n",
       "<tr>\n",
       "       <td></td>          <th>coef</th>     <th>std err</th>      <th>t</th>      <th>P>|t|</th>  <th>[0.025</th>    <th>0.975]</th>  \n",
       "</tr>\n",
       "<tr>\n",
       "  <th>Intercept</th>   <td>    2.5496</td> <td>    0.449</td> <td>    5.673</td> <td> 0.000</td> <td>    1.662</td> <td>    3.437</td>\n",
       "</tr>\n",
       "<tr>\n",
       "  <th>accratio</th>    <td>   -4.1667</td> <td>    1.544</td> <td>   -2.698</td> <td> 0.008</td> <td>   -7.217</td> <td>   -1.117</td>\n",
       "</tr>\n",
       "<tr>\n",
       "  <th>Q1</th>          <td>    0.5300</td> <td>    0.147</td> <td>    3.615</td> <td> 0.000</td> <td>    0.240</td> <td>    0.820</td>\n",
       "</tr>\n",
       "<tr>\n",
       "  <th>accratio:Q1</th> <td>    0.4648</td> <td>    0.495</td> <td>    0.940</td> <td> 0.349</td> <td>   -0.512</td> <td>    1.441</td>\n",
       "</tr>\n",
       "</table>\n",
       "<table class=\"simpletable\">\n",
       "<tr>\n",
       "  <th>Omnibus:</th>       <td>15.288</td> <th>  Durbin-Watson:     </th> <td>   0.573</td>\n",
       "</tr>\n",
       "<tr>\n",
       "  <th>Prob(Omnibus):</th> <td> 0.000</td> <th>  Jarque-Bera (JB):  </th> <td>   5.348</td>\n",
       "</tr>\n",
       "<tr>\n",
       "  <th>Skew:</th>          <td> 0.068</td> <th>  Prob(JB):          </th> <td>  0.0690</td>\n",
       "</tr>\n",
       "<tr>\n",
       "  <th>Kurtosis:</th>      <td> 2.126</td> <th>  Cond. No.          </th> <td>    51.5</td>\n",
       "</tr>\n",
       "</table>"
      ],
      "text/plain": [
       "<class 'statsmodels.iolib.summary.Summary'>\n",
       "\"\"\"\n",
       "                            OLS Regression Results                            \n",
       "==============================================================================\n",
       "Dep. Variable:                     Q2   R-squared:                       0.378\n",
       "Model:                            OLS   Adj. R-squared:                  0.366\n",
       "Method:                 Least Squares   F-statistic:                     32.43\n",
       "Date:                Fri, 23 Mar 2018   Prob (F-statistic):           1.98e-16\n",
       "Time:                        01:46:40   Log-Likelihood:                -286.66\n",
       "No. Observations:                 164   AIC:                             581.3\n",
       "Df Residuals:                     160   BIC:                             593.7\n",
       "Df Model:                           3                                         \n",
       "Covariance Type:            nonrobust                                         \n",
       "===============================================================================\n",
       "                  coef    std err          t      P>|t|      [0.025      0.975]\n",
       "-------------------------------------------------------------------------------\n",
       "Intercept       2.5496      0.449      5.673      0.000       1.662       3.437\n",
       "accratio       -4.1667      1.544     -2.698      0.008      -7.217      -1.117\n",
       "Q1              0.5300      0.147      3.615      0.000       0.240       0.820\n",
       "accratio:Q1     0.4648      0.495      0.940      0.349      -0.512       1.441\n",
       "==============================================================================\n",
       "Omnibus:                       15.288   Durbin-Watson:                   0.573\n",
       "Prob(Omnibus):                  0.000   Jarque-Bera (JB):                5.348\n",
       "Skew:                           0.068   Prob(JB):                       0.0690\n",
       "Kurtosis:                       2.126   Cond. No.                         51.5\n",
       "==============================================================================\n",
       "\n",
       "Warnings:\n",
       "[1] Standard Errors assume that the covariance matrix of the errors is correctly specified.\n",
       "\"\"\""
      ]
     },
     "execution_count": 12,
     "metadata": {},
     "output_type": "execute_result"
    }
   ],
   "source": [
    "##trying to fit m,ultiple regression\n",
    "import statsmodels.formula.api as smf\n",
    "\n",
    "mX = allnumdf[['Q1', 'accratio']]\n",
    "\n",
    "my = allnumdf['Q2']\n",
    "## fit a OLS model with intercept on TV and Radio\n",
    "\n",
    "mX = sm.add_constant(X)\n",
    "\n",
    "Mest = sm.OLS(my, mX).fit()\n",
    "Mest = smf.ols(formula='Q2 ~ accratio * Q1', data=allnumdf).fit()\n",
    "\n",
    "Mest.summary()"
   ]
  },
  {
   "cell_type": "markdown",
   "metadata": {
    "collapsed": true
   },
   "source": [
    "TODO: Add notes about dependent variables\n",
    "Suggestions.  \n",
    "\n",
    "error rate / number of misses\n",
    "\n",
    "how_long (num points)\n",
    "mean velocity (between point distance). Later color with velocity.\n",
    "mean acceleration (differences between successive velocity values). Later color with acceleration.\n",
    "curvature: https://stackoverflow.com/questions/27095399/how-do-i-calculate-radius-of-curvature-from-discrete-samples\n",
    "\n",
    "look at the open sesame library for what they have\n",
    "\n",
    "check those spivey notes\n",
    "\n"
   ]
  },
  {
   "cell_type": "code",
   "execution_count": 14,
   "metadata": {},
   "outputs": [
    {
     "ename": "NameError",
     "evalue": "name 'df4' is not defined",
     "output_type": "error",
     "traceback": [
      "\u001b[1;31m---------------------------------------------------------------------------\u001b[0m",
      "\u001b[1;31mNameError\u001b[0m                                 Traceback (most recent call last)",
      "\u001b[1;32m<ipython-input-14-7339b7b78445>\u001b[0m in \u001b[0;36m<module>\u001b[1;34m()\u001b[0m\n\u001b[0;32m      1\u001b[0m \u001b[0mrow_number\u001b[0m \u001b[1;33m=\u001b[0m \u001b[1;36m10\u001b[0m\u001b[1;33m\u001b[0m\u001b[0m\n\u001b[1;32m----> 2\u001b[1;33m \u001b[0mxs\u001b[0m \u001b[1;33m=\u001b[0m \u001b[1;33m[\u001b[0m\u001b[0mint\u001b[0m\u001b[1;33m(\u001b[0m\u001b[0mi\u001b[0m\u001b[1;33m)\u001b[0m\u001b[1;33m-\u001b[0m\u001b[1;36m100\u001b[0m \u001b[1;32mfor\u001b[0m \u001b[0mi\u001b[0m \u001b[1;32min\u001b[0m \u001b[0mdf4\u001b[0m\u001b[1;33m.\u001b[0m\u001b[0mat\u001b[0m\u001b[1;33m[\u001b[0m\u001b[0mrow_number\u001b[0m\u001b[1;33m,\u001b[0m\u001b[1;34m'Xcord'\u001b[0m\u001b[1;33m]\u001b[0m\u001b[1;33m.\u001b[0m\u001b[0msplit\u001b[0m\u001b[1;33m(\u001b[0m\u001b[1;34m','\u001b[0m\u001b[1;33m)\u001b[0m\u001b[1;33m]\u001b[0m\u001b[1;33m\u001b[0m\u001b[0m\n\u001b[0m\u001b[0;32m      3\u001b[0m \u001b[0mys\u001b[0m \u001b[1;33m=\u001b[0m \u001b[1;33m[\u001b[0m\u001b[0mint\u001b[0m\u001b[1;33m(\u001b[0m\u001b[0mi\u001b[0m\u001b[1;33m)\u001b[0m \u001b[1;32mfor\u001b[0m \u001b[0mi\u001b[0m \u001b[1;32min\u001b[0m \u001b[0mdf4\u001b[0m\u001b[1;33m.\u001b[0m\u001b[0mat\u001b[0m\u001b[1;33m[\u001b[0m\u001b[0mrow_number\u001b[0m\u001b[1;33m,\u001b[0m\u001b[1;34m'Ycord'\u001b[0m\u001b[1;33m]\u001b[0m\u001b[1;33m.\u001b[0m\u001b[0msplit\u001b[0m\u001b[1;33m(\u001b[0m\u001b[1;34m','\u001b[0m\u001b[1;33m)\u001b[0m\u001b[1;33m]\u001b[0m\u001b[1;33m\u001b[0m\u001b[0m\n\u001b[0;32m      4\u001b[0m \u001b[1;33m\u001b[0m\u001b[0m\n\u001b[0;32m      5\u001b[0m \u001b[0mvelocX\u001b[0m \u001b[1;33m=\u001b[0m \u001b[1;33m[\u001b[0m\u001b[1;33m]\u001b[0m\u001b[1;33m\u001b[0m\u001b[0m\n",
      "\u001b[1;31mNameError\u001b[0m: name 'df4' is not defined"
     ]
    }
   ],
   "source": [
    "row_number = 10\n",
    "xs = [int(i)-100 for i in df4.at[row_number,'Xcord'].split(',')]  \n",
    "ys = [int(i) for i in df4.at[row_number,'Ycord'].split(',')] \n",
    "\n",
    "velocX = []\n",
    "\n",
    "for i in range(0,len(xs)-1):\n",
    "    velocX.append(xs[i] - xs[i + 1])\n",
    "\n",
    "numpy.mean(velocX)"
   ]
  },
  {
   "cell_type": "code",
   "execution_count": null,
   "metadata": {
    "collapsed": true
   },
   "outputs": [],
   "source": [
    "import math\n",
    "\n",
    "row_number = 11\n",
    "xs = [int(i)-100 for i in df4.at[row_number,'Xcord'].split(',')]  \n",
    "ys = [int(i) for i in df4.at[row_number,'Ycord'].split(',')] \n",
    "\n",
    "velocX = []\n",
    "\n",
    "for i in range(0,len(xs)-1):\n",
    "    velocX.append(xs[i] - xs[i + 1])\n",
    "\n",
    "#np.mean(velocX)\n",
    "\n",
    "velocY = []\n",
    "\n",
    "for i in range(0,len(ys)-1):\n",
    "    velocY.append(ys[i] - ys[i + 1])\n",
    "#np.mean(velocY)\n",
    "\n",
    "velocity = []\n",
    "for i in range(0,len(velocY)):\n",
    "    velocity.append((velocX[i]**2 + velocY[i]**2)**.5)\n",
    "    #print((velocX[i]**2 + velocY[i]**2)**.5)\n",
    "\n",
    "print(velocX[0:5])\n",
    "print(velocY[0:5])\n",
    "print(velocity[0:5])\n",
    "\n",
    "print((-3**2 + 5**2)**.5)\n",
    "print((velocX[1]**2 + velocY[1]**2)**.5)\n",
    "\n",
    "velocity1 = []\n",
    "for i in range(0,len(velocY)):\n",
    "    velocity1.append(math.sqrt(math.pow(velocX[i], 2) + math.pow(velocY[i], 2)))\n",
    "    #print((velocX[i]**2 + velocY[i]**2)**.5)\n",
    "\n",
    "print(velocX[0:5])\n",
    "print(velocY[0:5])\n",
    "print(velocity[0:5])\n",
    "\n",
    "print(math.sqrt(math.pow(-3, 2) + math.pow(5, 2)))\n",
    "print(math.sqrt(math.pow(velocX[1], 2) + math.pow(velocY[1], 2)))\n"
   ]
  },
  {
   "cell_type": "code",
   "execution_count": null,
   "metadata": {
    "collapsed": true
   },
   "outputs": [],
   "source": [
    "velocities = []\n",
    "for x in range(0,len((df4.index)-1)):\n",
    "    xs = [int(i) for i in df4.at[x,'Xcord'].split(',')]  \n",
    "    ys = [int(i) for i in df4.at[x,'Ycord'].split(',')] \n",
    "    velocity1 = []\n",
    "    for i in range(0,len(velocY)):\n",
    "        velocity1.append(math.sqrt(math.pow(velocX[i], 2) + math.pow(velocY[i], 2)))\n",
    "    velocities.append(velocity1)\n",
    "\n",
    "series = pd.Series(velocities)\n",
    "df4['velocities'] = series.values\n",
    "df4.head()"
   ]
  },
  {
   "cell_type": "code",
   "execution_count": null,
   "metadata": {
    "collapsed": true
   },
   "outputs": [],
   "source": []
  },
  {
   "cell_type": "code",
   "execution_count": null,
   "metadata": {
    "collapsed": true
   },
   "outputs": [],
   "source": []
  },
  {
   "cell_type": "code",
   "execution_count": null,
   "metadata": {
    "collapsed": true
   },
   "outputs": [],
   "source": []
  },
  {
   "cell_type": "code",
   "execution_count": null,
   "metadata": {
    "collapsed": true
   },
   "outputs": [],
   "source": []
  },
  {
   "cell_type": "code",
   "execution_count": null,
   "metadata": {
    "collapsed": true
   },
   "outputs": [],
   "source": []
  },
  {
   "cell_type": "code",
   "execution_count": null,
   "metadata": {
    "collapsed": true
   },
   "outputs": [],
   "source": []
  },
  {
   "cell_type": "code",
   "execution_count": null,
   "metadata": {
    "collapsed": true
   },
   "outputs": [],
   "source": []
  },
  {
   "cell_type": "code",
   "execution_count": null,
   "metadata": {
    "collapsed": true
   },
   "outputs": [],
   "source": []
  },
  {
   "cell_type": "code",
   "execution_count": null,
   "metadata": {
    "collapsed": true
   },
   "outputs": [],
   "source": []
  }
 ],
 "metadata": {
  "anaconda-cloud": {},
  "kernelspec": {
   "display_name": "Python 3",
   "language": "python",
   "name": "python3"
  },
  "language_info": {
   "codemirror_mode": {
    "name": "ipython",
    "version": 3
   },
   "file_extension": ".py",
   "mimetype": "text/x-python",
   "name": "python",
   "nbconvert_exporter": "python",
   "pygments_lexer": "ipython3",
   "version": "3.6.4"
  }
 },
 "nbformat": 4,
 "nbformat_minor": 1
}
